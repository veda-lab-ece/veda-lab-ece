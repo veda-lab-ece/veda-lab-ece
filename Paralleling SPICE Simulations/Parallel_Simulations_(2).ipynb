{
  "cells": [
    {
      "cell_type": "code",
      "execution_count": null,
      "id": "77f4ae10",
      "metadata": {
        "id": "77f4ae10"
      },
      "outputs": [],
      "source": [
        "from PyLTSpice.LTSpiceBatch import SimCommander\n",
        "from PyLTSpice.LTSpice_RawRead import LTSpiceRawRead\n",
        "import ltspice\n",
        "import os\n",
        "import numpy as np\n",
        "import time\n",
        "import random\n",
        "import itertools\n",
        "from gym import Env\n",
        "from gym.spaces import Discrete, Box\n",
        "import matplotlib.pyplot as plt\n",
        "from time import perf_counter"
      ]
    },
    {
      "cell_type": "code",
      "execution_count": null,
      "id": "f05efe27",
      "metadata": {
        "id": "f05efe27",
        "outputId": "c53bed42-7a54-4540-dd3e-985cd62f9376"
      },
      "outputs": [
        {
          "name": "stderr",
          "output_type": "stream",
          "text": [
            "C:\\Users\\TI_ML\\anaconda3\\lib\\site-packages\\gym\\spaces\\box.py:127: UserWarning: \u001b[33mWARN: Box bound precision lowered by casting to float64\u001b[0m\n",
            "  logger.warn(f\"Box bound precision lowered by casting to {self.dtype}\")\n"
          ]
        }
      ],
      "source": [
        "observation_space = Box(np.array([1,1,1,1,1]), np.array([20,20,10,10,10]),dtype='float64')"
      ]
    },
    {
      "cell_type": "code",
      "execution_count": null,
      "id": "aa15d374",
      "metadata": {
        "id": "aa15d374"
      },
      "outputs": [],
      "source": [
        "def netlist_manipulate(LTC,prev_width,curr_width):\n",
        "    w1p,w3p,w4p,w6p,w7p = prev_width[0],prev_width[1],prev_width[2],prev_width[3],prev_width[4]\n",
        "    w1,w3,w4,w6,w7 = curr_width[0],curr_width[1],curr_width[2],curr_width[3],curr_width[4]\n",
        "    w2p=w1p\n",
        "    w5p=w4p\n",
        "    w8p=w6p\n",
        "    w2=w1\n",
        "    w5=w4\n",
        "    w8=w6\n",
        "    #print(LTC.netlist)\n",
        "    LTC.remove_instruction('M1 VDD N001 N001 VDD CMOSP l=500n w={}u'.format(str(w1p)))  #w1\n",
        "    LTC.remove_instruction('M2 VDD N001 N002 VDD CMOSP l=500n w={}u'.format(str(w2p)))\n",
        "    LTC.remove_instruction('M3 VDD N002 vout VDD CMOSP l=500n w={}u'.format(str(w3p))) #w3\n",
        "    LTC.remove_instruction('M4 N001 in1 N003 0 CMOSN l=500n w={}u'.format(str(w4p))) #w4\n",
        "    LTC.remove_instruction('M5 N002 in2 N003 0 CMOSN l=500n w={}u'.format(str(w5p)))\n",
        "    LTC.remove_instruction('M6 N004 N005 VSS 0 CMOSN l=500n w={}u'.format(str(w6p))) #w6\n",
        "    LTC.remove_instruction('M8 vout N005 VSS 0 CMOSN l=500n w={}u'.format(str(w7p))) #w7\n",
        "    LTC.remove_instruction('M9 N003 N005 VSS 0 CMOSN l=500n w={}u'.format(str(w8p)))\n",
        "        ###################################################################\n",
        "    ##############################################################\n",
        "    c1=' w='+str(w1)+'u'\n",
        "    c2=' w='+str(w2)+'u'\n",
        "    c3=' w='+str(w3)+'u'Gain (dB)\n",
        "    c4=' w='+str(w4)+'u'\n",
        "    c5=' w='+str(w5)+'u'\n",
        "    c6=' w='+str(w6)+'u'\n",
        "    c8=' w='+str(w7)+'u'\n",
        "    c9=' w='+str(w8)+'u'\n",
        "   \n",
        "    d1='M1 VDD N001 N001 VDD CMOSP'\n",
        "    d2='M2 VDD N001 N002 VDD CMOSP'\n",
        "    d3='M3 VDD N002 vout VDD CMOSP'\n",
        "    d4='M4 N001 in1 N003 0 CMOSN'\n",
        "    d5='M5 N002 in2 N003 0 CMOSN'\n",
        "    d6='M6 N004 N005 VSS 0 CMOSN'\n",
        "    d8='M8 vout N005 VSS 0 CMOSN'\n",
        "    d9='M9 N003 N005 VSS 0 CMOSN'\n",
        "\n",
        "    c=' l=500n'\n",
        "    e1=d1+c+c1\n",
        "    e2=d2+c+c2\n",
        "    e3=d3+c+c3\n",
        "    e4=d4+c+c4\n",
        "    e5=d5+c+c5\n",
        "    e6=d6+c+c6\n",
        "    e8=d8+c+c8\n",
        "    e9=d9+c+c9\n",
        "    LTC.add_instructions(e1,e2,e3,e4,e5,e6,e8,e9,'.ac dec 100 1 1G')\n",
        "    return LTC"
      ]
    },
    {
      "cell_type": "code",
      "execution_count": null,
      "id": "6b94899e",
      "metadata": {
        "id": "6b94899e"
      },
      "outputs": [],
      "source": [
        "def Sim(lst):\n",
        "    res=[]\n",
        "    lst.append([7,87,3,6,37.5])\n",
        "    lst=lst[::-1]\n",
        "    temp=[]\n",
        "    #print(lst)\n",
        "    #AbsPath = os.path.dirname(os.path.realpath(__file__))\n",
        "    LTC = SimCommander(\"2stage_opamp.asc\",parallel_sims=100)\n",
        "    for i in range(1,len(lst)):\n",
        "        LTC = netlist_manipulate(LTC,lst[i-1],lst[i])\n",
        "        LTC.run(wait_resource=False)\n",
        "        LTC.wait_completion()\n",
        "        l = ltspice.Ltspice('2stage_opamp_{}.raw'.format(str(i)))\n",
        "        l.parse()\n",
        "        freq = l.get_data('frequency')\n",
        "        vout = l.get_data('V(vout)')\n",
        "        k1=np.array(vout.data)\n",
        "        k2 = np.degrees(np.angle(k1))\n",
        "        k3=20*np.log10(np.abs(k1))\n",
        "        k5=np.where((k3 >0.9) & (k3 < 1.2))\n",
        "        print('GAIN = %f dB'%(k3[0]))\n",
        "        if k3[0] > 0:\n",
        "            res.append(k3[0])\n",
        "        else:\n",
        "            temp.append(lst[i])\n",
        "    for i in temp:\n",
        "        lst.remove(i)\n",
        "    return res[::-1],lst"
      ]
    },
    {
      "cell_type": "code",
      "execution_count": null,
      "id": "0a812dbc",
      "metadata": {
        "id": "0a812dbc"
      },
      "outputs": [],
      "source": [
        "'''\n",
        "1. Sample n different parameter tuples from the obs.  space and store it in a list\n",
        "2. Append the initial parameter tuple with the list\n",
        "3. Create Netlist and generate empty raw files\n",
        "4. Pick each tuple from the list and manipulate the netlist.\n",
        "5. Run simulations parallelly\n",
        "6. Write the outputs in the raw files\n",
        "'''"
      ]
    },
    {
      "cell_type": "code",
      "execution_count": null,
      "id": "14f0b039",
      "metadata": {
        "id": "14f0b039"
      },
      "outputs": [],
      "source": [
        "times=[]\n",
        "x=[10,20,30,40,50,60,70,80,90,100]\n",
        "for j in x:\n",
        "    t1_start = perf_counter()\n",
        "    for i in range(0,j):\n",
        "        items.append(list(observation_space.sample()))\n",
        "    fom,items=Sim(items)\n",
        "    t1_stop = perf_counter()\n",
        "    times.append(t1_stop-t1_start)"
      ]
    },
    {
      "cell_type": "code",
      "execution_count": null,
      "id": "bf6e685a",
      "metadata": {
        "id": "bf6e685a"
      },
      "outputs": [],
      "source": [
        "print(times)"
      ]
    },
    {
      "cell_type": "markdown",
      "id": "c9252477",
      "metadata": {
        "id": "c9252477"
      },
      "source": [
        "SEQUENTIAL"
      ]
    },
    {
      "cell_type": "code",
      "execution_count": null,
      "id": "2322ea13",
      "metadata": {
        "id": "2322ea13"
      },
      "outputs": [],
      "source": [
        "def Sim1(w1,w3,w4,w6,w7):\n",
        "    #AbsPath = os.path.dirname(os.path.realpath(__file__))\n",
        "    w2=w1\n",
        "    w5=w4\n",
        "    w8=w6\n",
        "    LTC = SimCommander(\"2stage_opamp.asc\")\n",
        "    # w1=' w='+str(w)\n",
        "    # w2='M4 N001 in1 N003 0 CMOSN'\n",
        "    # w3=' l=500n'\n",
        "    # LTC.remove_instruction('M4 N001 in1 N003 0 CMOSN l=500n w=3u')\n",
        "    # w4=w2+w1+w3\n",
        "    # print(w4)\n",
        "\n",
        "    LTC.remove_instruction('M1 VDD N001 N001 VDD CMOSP l=500n w=7u')  #w1\n",
        "    LTC.remove_instruction('M2 VDD N001 N002 VDD CMOSP l=500n w=7u')\n",
        "    LTC.remove_instruction('M3 VDD N002 vout VDD CMOSP l=500n w=87u') #w3\n",
        "    LTC.remove_instruction('M4 N001 in1 N003 0 CMOSN l=500n w=3u') #w4\n",
        "    LTC.remove_instruction('M5 N002 in2 N003 0 CMOSN l=500n w=3u')\n",
        "    LTC.remove_instruction('M6 N004 N005 VSS 0 CMOSN l=500n w=6u') #w6\n",
        "    LTC.remove_instruction('M8 vout N005 VSS 0 CMOSN l=500n w=37.5u') #w7\n",
        "    LTC.remove_instruction('M9 N003 N005 VSS 0 CMOSN l=500n w=6u')\n",
        "        ###################################################################\n",
        "\n",
        "    ##############################################################\n",
        "    c1=' w='+str(w1)+'u'\n",
        "    c2=' w='+str(w2)+'u'\n",
        "    c3=' w='+str(w3)+'u'\n",
        "    c4=' w='+str(w4)+'u'\n",
        "    c5=' w='+str(w5)+'u'\n",
        "    c6=' w='+str(w6)+'u'\n",
        "    c8=' w='+str(w7)+'u'\n",
        "    c9=' w='+str(w8)+'u'\n",
        "\n",
        "    ##################################################################\n",
        "    \n",
        "    \n",
        "    d1='M1 VDD N001 N001 VDD CMOSP'\n",
        "    d2='M2 VDD N001 N002 VDD CMOSP'\n",
        "    d3='M3 VDD N002 vout VDD CMOSP'\n",
        "    d4='M4 N001 in1 N003 0 CMOSN'\n",
        "    d5='M5 N002 in2 N003 0 CMOSN'\n",
        "    d6='M6 N004 N005 VSS 0 CMOSN'\n",
        "    d8='M8 vout N005 VSS 0 CMOSN'\n",
        "    d9='M9 N003 N005 VSS 0 CMOSN'\n",
        "\n",
        "    \n",
        "    ##################################################################\n",
        "    c=' l=500n'\n",
        "    ##################################################################\n",
        "    \n",
        "    e1=d1+c+c1\n",
        "    e2=d2+c+c2\n",
        "    e3=d3+c+c3\n",
        "    e4=d4+c+c4\n",
        "    e5=d5+c+c5\n",
        "    e6=d6+c+c6\n",
        "    e8=d8+c+c8\n",
        "    e9=d9+c+c9\n",
        "##################################################################\n",
        "    LTC.add_instructions(e1,e2,e3,e4,e5,e6,e8,e9,'.ac dec 100 1 1G')\n",
        "\n",
        "    ##################################################################\n",
        "\n",
        "\n",
        "    # LTC.add_instructions(w4,'.ac dec 100 1 1G')\n",
        "    #print(LTC.netlist)\n",
        "    LTC.run(wait_resource=False)\n",
        "    LTC.wait_completion()\n",
        "\n",
        "    l = ltspice.Ltspice('2stage_opamp_1.raw') \n",
        "    # Make sure that the .raw file is located in the correct path\n",
        "    l.parse() \n",
        "\n",
        "\n",
        "    freq = l.get_data('frequency')\n",
        "    # V_out = l.get_data('V(out)')\n",
        "    vout = l.get_data('V(vout)')\n",
        "\n",
        "    k1=np.array(vout.data)\n",
        "    k2 = np.degrees(np.angle(k1))\n",
        "\n",
        "    k3=20*np.log10(np.abs(k1))\n",
        "    k5=np.where((k3 >0.9) & (k3 < 1.2))\n",
        "    #k6=np.real(freq[k5[0]])\n",
        "    #print(k6)\n",
        "    print('GAIN = %f dB'%(k3[0]))\n",
        "    #print('GBW = %d MHz'%(k6[0].real/1000000))\n",
        "    return k3[0]"
      ]
    },
    {
      "cell_type": "code",
      "execution_count": null,
      "id": "d9e09284",
      "metadata": {
        "id": "d9e09284"
      },
      "outputs": [],
      "source": [
        "times=[]\n",
        "x=[10,20,30,40,50,60,70,80,90,100]\n",
        "for j in x:\n",
        "    t1_start = perf_counter()\n",
        "    for i in range(0,j):\n",
        "        items.append(list(observation_space.sample()))\n",
        "    for i in items:\n",
        "        fom,items=Sim(i[0],i[1],i[2],i[3],i[4])\n",
        "    t1_stop = perf_counter()\n",
        "    times.append(t1_stop-t1_start)"
      ]
    },
    {
      "cell_type": "code",
      "execution_count": null,
      "id": "0433f4ef",
      "metadata": {
        "id": "0433f4ef"
      },
      "outputs": [],
      "source": [
        "print(times)"
      ]
    }
  ],
  "metadata": {
    "kernelspec": {
      "display_name": "Python 3 (ipykernel)",
      "language": "python",
      "name": "python3"
    },
    "language_info": {
      "codemirror_mode": {
        "name": "ipython",
        "version": 3
      },
      "file_extension": ".py",
      "mimetype": "text/x-python",
      "name": "python",
      "nbconvert_exporter": "python",
      "pygments_lexer": "ipython3",
      "version": "3.9.13"
    },
    "colab": {
      "provenance": []
    }
  },
  "nbformat": 4,
  "nbformat_minor": 5
}